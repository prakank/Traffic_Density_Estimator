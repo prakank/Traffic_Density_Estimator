{
 "cells": [
  {
   "cell_type": "code",
   "execution_count": 154,
   "id": "inside-plane",
   "metadata": {},
   "outputs": [],
   "source": [
    "os.chdir(\"/home/prakank/Sem4/COP290/Task1/Subtask2/\")"
   ]
  },
  {
   "cell_type": "code",
   "execution_count": 155,
   "id": "designed-remedy",
   "metadata": {},
   "outputs": [],
   "source": [
    "df = pd.read_csv(\"Error_Utility.csv\")"
   ]
  },
  {
   "cell_type": "code",
   "execution_count": null,
   "id": "welsh-greenhouse",
   "metadata": {},
   "outputs": [],
   "source": [
    "M3 = []\n",
    "M4 = []\n",
    "\n",
    "M3_run = []\n",
    "M4_run = []\n",
    "\n",
    "for i in df.index:\n",
    "    if df.loc[i].iloc[0] == \"3\":\n",
    "        M3.append(df.loc[i].iloc[4])\n",
    "        M3_run.append(df.loc[i].iloc[2])\n",
    "    elif df.loc[i].iloc[0] == \"4\":\n",
    "        M4.append(df.loc[i].iloc[4])\n",
    "        M4_run.append(df.loc[i].iloc[2])\n",
    "    else:\n",
    "#         print(df.loc[i].iloc[0])\n",
    "        M3.append(df.loc[i].iloc[4])\n",
    "        M3_run.append(df.loc[i].iloc[2])\n",
    "        M4.append(df.loc[i].iloc[4])\n",
    "        M4_run.append(df.loc[i].iloc[2])\n",
    "\n",
    "fig,ax = plt.subplots()\n",
    "ax.scatter(M3, M3_run)\n",
    "fig.suptitle(\"Runtime vs Utility - Method 3 (Spatial Distribution)\", fontsize = 16)\n",
    "ax.set_xlabel(\"Utility\",fontsize=16,labelpad=2)\n",
    "ax.set_ylabel(\"Runtime (in seconds)\",fontsize=16,labelpad=10)\n",
    "for i in range(8):\n",
    "    ax.annotate(\"Threads:\" + str(i+1), (M3[i],M3_run[i]))\n",
    "ax.annotate(\"Baseline\", (M3[8],M3_run[8]))\n",
    "plt.savefig('Method3_Utility.png')\n",
    "plt.show()\n",
    "\n",
    "fig,ax = plt.subplots()\n",
    "ax.scatter(M4, M4_run)\n",
    "fig.suptitle(\"Runtime vs Utility - Method 4 (Temporally Distributed)\", fontsize = 16)\n",
    "ax.set_xlabel(\"Utility\",fontsize=16,labelpad=2)\n",
    "ax.set_ylabel(\"Runtime (in seconds)\",fontsize=16,labelpad=10)\n",
    "for i in range(8):\n",
    "    ax.annotate(\"Threads:\" + str(i+1), (M4[i],M4_run[i]))\n",
    "ax.annotate(\"Baseline\", (M4[8],M4_run[8]))\n",
    "plt.savefig('Method4_Utility.png')\n",
    "plt.show()"
   ]
  },
  {
   "cell_type": "code",
   "execution_count": null,
   "id": "pacific-triumph",
   "metadata": {},
   "outputs": [],
   "source": []
  }
 ],
 "metadata": {
  "kernelspec": {
   "display_name": "Python 3",
   "language": "python",
   "name": "python3"
  },
  "language_info": {
   "codemirror_mode": {
    "name": "ipython",
    "version": 3
   },
   "file_extension": ".py",
   "mimetype": "text/x-python",
   "name": "python",
   "nbconvert_exporter": "python",
   "pygments_lexer": "ipython3",
   "version": "3.8.5"
  }
 },
 "nbformat": 4,
 "nbformat_minor": 5
}
